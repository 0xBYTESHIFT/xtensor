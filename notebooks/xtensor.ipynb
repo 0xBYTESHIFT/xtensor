{
 "cells": [
  {
   "cell_type": "markdown",
   "metadata": {},
   "source": [
    "# xtensor\n",
    "\n",
    "Multi-dimensional arrays with broadcasting and lazy computing.\n",
    "\n",
    "<div style=\"background: #f1f1f1;\n",
    "            border: 1px solid grey;\n",
    "            margin: 16px 0 8px 0;\n",
    "            text-align: center;\n",
    "            padding: 8px; \">\n",
    "    This live demo is powered by\n",
    "    <div style=\"margin-left: auto; margin-right: auto;\n",
    "                margin-top: 20px; margin-right: auto;\n",
    "                width: 700px;\">\n",
    "    <a href=\"http://mybinder.org/\" title=\"The Mybinder Project\">\n",
    "        <img src=\"./images/binder-logo.png\" alt=\"Binder Logo\" \n",
    "             style=\"display: inline-block;\">\n",
    "    </a>\n",
    "    <a href=\"http://jupyter.org/\" title=\"The Jupyter Notebook\">\n",
    "        <img src=\"./images/jupyter-logo.png\" alt=\"Jupyter Logo\"\n",
    "             style=\"display: inline-block;\">\n",
    "    </a>\n",
    "    <a href=\"https://root.cern.ch/cling\" title=\"The Cling C++ Interpreter\">\n",
    "        <img src=\"./images/cling-logo.png\" alt=\"Cling Logo\"\n",
    "             style=\"display: inline-block;\">\n",
    "    </a>\n",
    "    </div>\n",
    "</div>\n",
    "<div style=\"background: #ffeded;\n",
    "            border: 1px solid grey;\n",
    "            margin: 8px 0 8px 0;\n",
    "            text-align: center;\n",
    "            padding: 8px; \">\n",
    "    <i class=\"fa-warning fa\" \n",
    "       style=\"font-size: 40px;\n",
    "              line-height: 40px;\n",
    "              margin: 8px;\n",
    "              color: #444;\">\n",
    "    </i>\n",
    "    <div>\n",
    "    This live demo may not be runnable from behind certain corporate proxies that block the websocket protocol.\n",
    "    </div>\n",
    "</div>"
   ]
  },
  {
   "cell_type": "markdown",
   "metadata": {
    "collapsed": false
   },
   "source": [
    "## Introduction\n",
    "\n",
    "`xtensor` is a C++ library meant for numerical analysis with multi-dimensional array expressions.\n",
    "\n",
    "`xtensor` provides\n",
    "\n",
    " - an extensible expression system enabling **lazy broadcasting**.\n",
    " - an API following the idioms of the **C++ standard library**.\n",
    " - tools to manipulate array expressions and build upon `xtensor`.\n",
    "\n",
    "The implementation of the containers of `xtensor` is inspired by [NumPy](http://www.numpy.org), the Python array programming library. **Adaptors** for existing data structures to be plugged into our expression system can easily be written. In fact, `xtensor` can be used to **process `numpy` data structures inplace** using Python's [buffer protocol](https://docs.python.org/3/c-api/buffer.html).\n",
    "\n",
    "`xtensor` requires a modern C++ compiler supporting C++14. The following C+ compilers are supported:\n",
    "\n",
    " - On Windows platforms, Visual C++ 2015 Update 2, or more recent\n",
    " - On Unix platforms, gcc 4.9 or a recent version of Clang"
   ]
  },
  {
   "cell_type": "markdown",
   "metadata": {
    "collapsed": true
   },
   "source": [
    "## Usage\n",
    "\n",
    "<div style=\"background: #efffed;\n",
    "            border: 1px solid grey;\n",
    "            margin: 8px 0 8px 0;\n",
    "            text-align: center;\n",
    "            padding: 8px; \">\n",
    "    <i class=\"fa-play fa\" \n",
    "       style=\"font-size: 40px;\n",
    "              line-height: 40px;\n",
    "              margin: 8px;\n",
    "              color: #444;\">\n",
    "    </i>\n",
    "    <div>\n",
    "    To run the selected code cell, hit <pre style=\"background: #efffed\">Shift + Enter</pre>\n",
    "    </div>\n",
    "</div>\n",
    "\n",
    "### Basic Usage\n",
    "\n",
    "**Initialize a 2-D array and compute the sum of one of its rows and a 1-D array.**"
   ]
  },
  {
   "cell_type": "code",
   "execution_count": 1,
   "metadata": {
    "collapsed": false
   },
   "outputs": [
    {
     "data": {
      "text/plain": []
     },
     "execution_count": 1,
     "metadata": {},
     "output_type": "execute_result"
    }
   ],
   "source": [
    "#include <iostream>\n",
    "#include \"xtensor/xarray.hpp\"\n",
    "#include \"xtensor/xio.hpp\""
   ]
  },
  {
   "cell_type": "code",
   "execution_count": 2,
   "metadata": {
    "collapsed": false
   },
   "outputs": [
    {
     "name": "stdout",
     "output_type": "stream",
     "text": [
      "{7, 11, 14}"
     ]
    },
    {
     "data": {
      "text/plain": [
       "(std::ostream &) @0x7fb68e90bf40\n"
      ]
     },
     "execution_count": 2,
     "metadata": {},
     "output_type": "execute_result"
    }
   ],
   "source": [
    "xt::xarray<double> arr1\n",
    "  {{1.0, 2.0, 3.0},\n",
    "   {2.0, 5.0, 7.0},\n",
    "   {2.0, 5.0, 7.0}};\n",
    "\n",
    "xt::xarray<double> arr2\n",
    "  {5.0, 6.0, 7.0};\n",
    "\n",
    "std::cout << xt::make_xview(arr1, 1) + arr2;;"
   ]
  },
  {
   "cell_type": "markdown",
   "metadata": {},
   "source": [
    "**Initialize a 1-D array and reshape it inplace.**"
   ]
  },
  {
   "cell_type": "code",
   "execution_count": 3,
   "metadata": {
    "collapsed": false
   },
   "outputs": [
    {
     "data": {
      "text/plain": []
     },
     "execution_count": 3,
     "metadata": {},
     "output_type": "execute_result"
    }
   ],
   "source": [
    "#include <iostream>\n",
    "#include \"xtensor/xarray.hpp\"\n",
    "#include \"xtensor/xio.hpp\""
   ]
  },
  {
   "cell_type": "code",
   "execution_count": 4,
   "metadata": {
    "collapsed": false
   },
   "outputs": [
    {
     "name": "stdout",
     "output_type": "stream",
     "text": [
      "{{1, 2, 3},\n",
      " {4, 5, 6},\n",
      " {7, 8, 9}}"
     ]
    },
    {
     "data": {
      "text/plain": [
       "(std::ostream &) @0x7fb68e90bf40\n"
      ]
     },
     "execution_count": 4,
     "metadata": {},
     "output_type": "execute_result"
    }
   ],
   "source": [
    "xt::xarray<int> arr\n",
    "  {1, 2, 3, 4, 5, 6, 7, 8, 9};\n",
    "\n",
    "arr.reshape({3, 3});\n",
    "\n",
    "std::cout << arr;"
   ]
  },
  {
   "cell_type": "markdown",
   "metadata": {},
   "source": [
    "**Broadcasting the ``xt::pow`` universal functions.**"
   ]
  },
  {
   "cell_type": "code",
   "execution_count": 5,
   "metadata": {
    "collapsed": false
   },
   "outputs": [
    {
     "data": {
      "text/plain": []
     },
     "execution_count": 5,
     "metadata": {},
     "output_type": "execute_result"
    }
   ],
   "source": [
    "#include <iostream>\n",
    "#include \"xtensor/xarray.hpp\"\n",
    "#include \"xtensor/xmath.hpp\"\n",
    "#include \"xtensor/xio.hpp\""
   ]
  },
  {
   "cell_type": "code",
   "execution_count": 6,
   "metadata": {
    "collapsed": false
   },
   "outputs": [
    {
     "name": "stdout",
     "output_type": "stream",
     "text": [
      "{{1, 16, 81},\n",
      " {1, 32, 243},\n",
      " {1, 64, 729},\n",
      " {1, 128, 2187}}"
     ]
    },
    {
     "data": {
      "text/plain": [
       "(std::ostream &) @0x7fb68e90bf40\n"
      ]
     },
     "execution_count": 6,
     "metadata": {},
     "output_type": "execute_result"
    }
   ],
   "source": [
    "xt::xarray<double> arr3\n",
    "  {1.0, 2.0, 3.0};\n",
    "\n",
    "xt::xarray<unsigned int> arr4\n",
    "  {4, 5, 6, 7};\n",
    "\n",
    "arr4.reshape({4, 1});\n",
    "\n",
    "std::cout << xt::pow(arr3, arr4);;"
   ]
  }
 ],
 "metadata": {
  "kernelspec": {
   "display_name": "C++14",
   "language": "",
   "name": "cling-c++14"
  },
  "language_info": {
   "codemirror_mode": "text/x-c++src",
   "file_extension": ".c++",
   "mimetype": " text/x-c++src",
   "name": "c++"
  }
 },
 "nbformat": 4,
 "nbformat_minor": 1
}
