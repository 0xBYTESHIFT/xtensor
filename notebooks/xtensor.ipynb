{
 "cells": [
  {
   "cell_type": "markdown",
   "metadata": {},
   "source": [
    "# ![xtensor](images/xtensor.svg)\n",
    "\n",
    "<center>Multi-dimensional arrays with broadcasting and lazy computing.</center>\n",
    "\n",
    "<div style=\"background: #f1f1f1;\n",
    "            border: 1px solid grey;\n",
    "            margin: 16px 0 8px 0;\n",
    "            text-align: center;\n",
    "            padding: 8px; \">\n",
    "    This live demo is powered by\n",
    "    <div style=\"margin-left: auto; margin-right: auto; display: flex; max-width: 600px\">\n",
    "        <div style=\"margin: 20px;\"><img src=\"./images/binder-logo.png\" style=\"height: 40px;\" alt=\"Binder Logo\"></div>\n",
    "        <div style=\"margin: 20px;\"><img src=\"./images/jupyter-logo.png\" style=\"height: 40px;\"  alt=\"Jupyter Logo\"></div>\n",
    "        <div style=\"margin: 20px;\"><img src=\"./images/cling-logo.png\" style=\"height: 40px;\"  alt=\"Cling Logo\"></div>\n",
    "    </div>\n",
    "</div>\n",
    "<div style=\"background: #ffeded;\n",
    "            border: 1px solid grey;\n",
    "            margin: 8px 0 8px 0;\n",
    "            text-align: center;\n",
    "            padding: 8px;\">\n",
    "    <i class=\"fa-warning fa\" \n",
    "       style=\"font-size: 40px;\n",
    "              line-height: 40px;\n",
    "              margin: 8px;\n",
    "              color: #444;\">\n",
    "    </i>\n",
    "    <div>\n",
    "    This live demo may not be runnable from behind certain corporate proxies that block the websocket protocol.\n",
    "    </div>\n",
    "</div>"
   ]
  },
  {
   "cell_type": "markdown",
   "metadata": {},
   "source": [
    "## Introduction\n",
    "\n",
    "`xtensor` is a C++ library meant for numerical analysis with multi-dimensional array expressions.\n",
    "\n",
    "`xtensor` provides\n",
    "\n",
    " - an extensible expression system enabling **lazy broadcasting**.\n",
    " - an API following the idioms of the **C++ standard library**.\n",
    " - tools to manipulate array expressions and build upon `xtensor`.\n",
    "\n",
    "The implementation of the containers of `xtensor` is inspired by [NumPy](http://www.numpy.org), the Python array programming library. **Adaptors** for existing data structures to be plugged into our expression system can easily be written. In fact, `xtensor` can be used to **process `numpy` data structures inplace** using Python's [buffer protocol](https://docs.python.org/3/c-api/buffer.html).\n",
    "\n",
    "`xtensor` requires a modern C++ compiler supporting C++14. The following C+ compilers are supported:\n",
    "\n",
    " - On Windows platforms, Visual C++ 2015 Update 2, or more recent\n",
    " - On Unix platforms, gcc 4.9 or a recent version of Clang"
   ]
  },
  {
   "cell_type": "markdown",
   "metadata": {
    "collapsed": true
   },
   "source": [
    "## Usage\n",
    "\n",
    "<div style=\"background: #efffed;\n",
    "            border: 1px solid grey;\n",
    "            margin: 8px 0 8px 0;\n",
    "            text-align: center;\n",
    "            padding: 8px; \">\n",
    "    <i class=\"fa-play fa\" \n",
    "       style=\"font-size: 40px;\n",
    "              line-height: 40px;\n",
    "              margin: 8px;\n",
    "              color: #444;\">\n",
    "    </i>\n",
    "    <div>\n",
    "    To run the selected code cell, hit <pre style=\"background: #efffed\">Shift + Enter</pre>\n",
    "    </div>\n",
    "</div>\n",
    "\n",
    "\n",
    "### Initialize a 2-D array and compute the sum of one of its rows and a 1-D array"
   ]
  },
  {
   "cell_type": "code",
   "execution_count": 1,
   "metadata": {
    "collapsed": true
   },
   "outputs": [],
   "source": [
    "#include <iostream>\n",
    "#include \"xtensor/xarray.hpp\"\n",
    "#include \"xtensor/xio.hpp\""
   ]
  },
  {
   "cell_type": "code",
   "execution_count": 2,
   "metadata": {},
   "outputs": [
    {
     "name": "stdout",
     "output_type": "stream",
     "text": [
      "{  7.,  11.,  14.}"
     ]
    }
   ],
   "source": [
    "xt::xarray<double> arr1\n",
    "  {{1.0, 2.0, 3.0},\n",
    "   {2.0, 5.0, 7.0},\n",
    "   {2.0, 5.0, 7.0}};\n",
    "\n",
    "xt::xarray<double> arr2\n",
    "  {5.0, 6.0, 7.0};\n",
    "\n",
    "std::cout << xt::view(arr1, 1) + arr2;;"
   ]
  },
  {
   "cell_type": "markdown",
   "metadata": {},
   "source": [
    "### Initialize a 1-D array and reshape it inplace"
   ]
  },
  {
   "cell_type": "code",
   "execution_count": 3,
   "metadata": {
    "collapsed": true
   },
   "outputs": [],
   "source": [
    "#include <iostream>\n",
    "#include \"xtensor/xarray.hpp\"\n",
    "#include \"xtensor/xio.hpp\""
   ]
  },
  {
   "cell_type": "code",
   "execution_count": 4,
   "metadata": {},
   "outputs": [
    {
     "name": "stdout",
     "output_type": "stream",
     "text": [
      "{{1, 2, 3},\n",
      " {4, 5, 6},\n",
      " {7, 8, 9}}"
     ]
    }
   ],
   "source": [
    "xt::xarray<int> arr\n",
    "  {1, 2, 3, 4, 5, 6, 7, 8, 9};\n",
    "\n",
    "arr.reshape({3, 3});\n",
    "\n",
    "std::cout << arr;"
   ]
  },
  {
   "cell_type": "markdown",
   "metadata": {},
   "source": [
    "### Broadcasting the ``xt::pow`` universal functions"
   ]
  },
  {
   "cell_type": "code",
   "execution_count": 5,
   "metadata": {
    "collapsed": true
   },
   "outputs": [],
   "source": [
    "#include <iostream>\n",
    "#include \"xtensor/xarray.hpp\"\n",
    "#include \"xtensor/xmath.hpp\"\n",
    "#include \"xtensor/xio.hpp\""
   ]
  },
  {
   "cell_type": "code",
   "execution_count": 6,
   "metadata": {},
   "outputs": [
    {
     "name": "stdout",
     "output_type": "stream",
     "text": [
      "{{    1.,    16.,    81.},\n",
      " {    1.,    32.,   243.},\n",
      " {    1.,    64.,   729.},\n",
      " {    1.,   128.,  2187.}}"
     ]
    }
   ],
   "source": [
    "xt::xarray<double> arr3\n",
    "  {1.0, 2.0, 3.0};\n",
    "\n",
    "xt::xarray<unsigned int> arr4\n",
    "  {4, 5, 6, 7};\n",
    "\n",
    "arr4.reshape({4, 1});\n",
    "\n",
    "std::cout << xt::pow(arr3, arr4);;"
   ]
  },
  {
   "cell_type": "markdown",
   "metadata": {},
   "source": [
    "### Random arrays with the random module"
   ]
  },
  {
   "cell_type": "code",
   "execution_count": 7,
   "metadata": {
    "collapsed": true
   },
   "outputs": [],
   "source": [
    "#include <iostream>\n",
    "#include \"xtensor/xrandom.hpp\""
   ]
  },
  {
   "cell_type": "code",
   "execution_count": 8,
   "metadata": {},
   "outputs": [
    {
     "name": "stdout",
     "output_type": "stream",
     "text": [
      "{{ 0.13453 , -0.146382,  0.46065 },\n",
      " {-1.871384,  0.163712, -0.214253},\n",
      " { 0.298595, -0.827944,  0.010215},\n",
      " { 1.055466, -0.546841,  1.174568}}"
     ]
    }
   ],
   "source": [
    "xt::xarray<double> arr5 = xt::random::randn<double>({4, 3});\n",
    "std::cout << arr5;"
   ]
  },
  {
   "cell_type": "code",
   "execution_count": 9,
   "metadata": {},
   "outputs": [
    {
     "name": "stdout",
     "output_type": "stream",
     "text": [
      "{{ 0.660682, -1.049443,  1.485964},\n",
      " {-0.625276, -2.559122, -0.829081},\n",
      " {-0.539781, -0.888707, -0.628956},\n",
      " { 1.019224,  0.339587, -0.482589}}"
     ]
    }
   ],
   "source": [
    "std::cout << xt::random::randn<double>({4, 3});"
   ]
  },
  {
   "cell_type": "markdown",
   "metadata": {},
   "source": [
    "### Using `linspace`, `arange`, `ones`, `zeros`"
   ]
  },
  {
   "cell_type": "code",
   "execution_count": 10,
   "metadata": {
    "collapsed": true
   },
   "outputs": [],
   "source": [
    "#include \"xtensor/xbuilder.hpp\""
   ]
  },
  {
   "cell_type": "code",
   "execution_count": 11,
   "metadata": {},
   "outputs": [
    {
     "name": "stdout",
     "output_type": "stream",
     "text": [
      "{{  0.      ,   0.909091,   1.818182},\n",
      " {  2.727273,   3.636364,   4.545455},\n",
      " {  5.454545,   6.363636,   7.272727},\n",
      " {  8.181818,   9.090909,  10.      }}"
     ]
    }
   ],
   "source": [
    "xt::xarray<double> ar = xt::linspace<double>(0.0, 10.0, 12);\n",
    "ar.reshape({4, 3});\n",
    "std::cout << ar;"
   ]
  },
  {
   "cell_type": "code",
   "execution_count": 12,
   "metadata": {
    "scrolled": false
   },
   "outputs": [
    {
     "name": "stdout",
     "output_type": "stream",
     "text": [
      "{{ 1.,  1.},\n",
      " { 1.,  1.}}"
     ]
    }
   ],
   "source": [
    "xt::xarray<double> fones = xt::ones<float>({2, 2});\n",
    "std::cout << fones;"
   ]
  },
  {
   "cell_type": "markdown",
   "metadata": {},
   "source": [
    "### Using `xt::broadcast`"
   ]
  },
  {
   "cell_type": "code",
   "execution_count": 13,
   "metadata": {
    "collapsed": true
   },
   "outputs": [],
   "source": [
    "#include <vector>\n",
    "#include \"xtensor/xbroadcast.hpp\""
   ]
  },
  {
   "cell_type": "code",
   "execution_count": 14,
   "metadata": {},
   "outputs": [
    {
     "name": "stdout",
     "output_type": "stream",
     "text": [
      "{{  0.      ,   3.333333,   6.666667,  10.      },\n",
      " {  0.      ,   3.333333,   6.666667,  10.      },\n",
      " {  0.      ,   3.333333,   6.666667,  10.      }}"
     ]
    }
   ],
   "source": [
    "std::cout << xt::broadcast(xt::linspace<double>(0.0, 10.0, 4),\n",
    "                           std::vector<std::size_t>({3, 4}));"
   ]
  },
  {
   "cell_type": "markdown",
   "metadata": {},
   "source": [
    "### Using standard algorithms with xexpressions"
   ]
  },
  {
   "cell_type": "code",
   "execution_count": 15,
   "metadata": {
    "collapsed": true
   },
   "outputs": [],
   "source": [
    "#include <algorithm>"
   ]
  },
  {
   "cell_type": "code",
   "execution_count": 16,
   "metadata": {},
   "outputs": [
    {
     "name": "stdout",
     "output_type": "stream",
     "text": [
      "{{ 2.108857, -0.121306},\n",
      " {-0.287389, -0.371003}}\n",
      "\n",
      "1.32916"
     ]
    }
   ],
   "source": [
    "xt::xarray<double> frand = xt::random::randn<double>({2, 2});\n",
    "\n",
    "std::cout << frand << std::endl << std::endl;\n",
    "\n",
    "// begin() and end() provide and iterator pair iterating over the xexpression in a row-major fashion\n",
    "std::cout << std::accumulate(frand.begin(), frand.end(), 0.0);"
   ]
  },
  {
   "cell_type": "markdown",
   "metadata": {},
   "source": [
    "### Iterating over a prescribed broadcasted shape"
   ]
  },
  {
   "cell_type": "code",
   "execution_count": 17,
   "metadata": {},
   "outputs": [
    {
     "name": "stdout",
     "output_type": "stream",
     "text": [
      "3.98747"
     ]
    }
   ],
   "source": [
    "// begin(shape) and end(shape) provide and iterator pair iterating\n",
    "// over the xexpression broadcasted to the prescrived shape in a row-major fashion\n",
    "std::vector<std::size_t> shape = {3, 2, 2};\n",
    "std::cout << std::accumulate(frand.begin(shape), frand.end(shape), 0.0);"
   ]
  },
  {
   "cell_type": "markdown",
   "metadata": {
    "collapsed": true
   },
   "source": [
    "# ![xtensor](images/xtensor-blas.svg)\n",
    "\n",
    "<center>Blas bindings for xtensor.</center>\n",
    "\n",
    "`xtensor-blas` is an extension to the xtensor library, offering bindings to BLAS and LAPACK libraries \n",
    "through cxxblas and cxxlapack from the [FLENS](https://github.com/michael-lehn/FLENS) project.\n",
    "\n",
    "`xtensor-blas` currently provides non-broadcasting `dot`, `norm` (1- and 2-norm for vectors), `inverse`, `solve`,\n",
    "`eig`, `cross`, `det`, `slogdet`, `matrix_rank`, `inv`, `cholesky`, `qr`, `svd` in the `xt::linalg` namespace (check the corresponding `xlinalg.hpp` header for the function signatures). The functions, and signatures, are trying to be 1-to-1 equivalent to NumPy.\n",
    "Low-level functions to interface with BLAS or LAPACK with xtensor containers are also offered \n",
    "in the `blas` and `lapack` namespace.\n",
    "\n",
    "`xtensor` and `xtensor-blas` require a modern C++ compiler supporting C++14. The following C++ compilers are supported:\n",
    "\n",
    " - On Windows platforms, Visual C++ 2015 Update 2, or more recent\n",
    " - On Unix platforms, gcc 4.9 or a recent version of Clang"
   ]
  },
  {
   "cell_type": "code",
   "execution_count": 18,
   "metadata": {
    "collapsed": true
   },
   "outputs": [],
   "source": [
    "// Location of blas and lapack runtimes for cling\n",
    "#pragma cling add_library_path(\"/srv/conda/lib\")\n",
    "\n",
    "#include \"xtensor-blas/xlinalg.hpp\""
   ]
  },
  {
   "cell_type": "code",
   "execution_count": 19,
   "metadata": {},
   "outputs": [],
   "source": [
    "xt::xtensor<double, 2> m = {{1.5, 0.5}, {0.7, 1.0}};"
   ]
  },
  {
   "cell_type": "code",
   "execution_count": 20,
   "metadata": {},
   "outputs": [
    {
     "name": "stdout",
     "output_type": "stream",
     "text": [
      "Matrix rank: \n",
      "2"
     ]
    }
   ],
   "source": [
    "std::cout << \"Matrix rank: \" << std::endl << xt::linalg::matrix_rank(m);"
   ]
  },
  {
   "cell_type": "code",
   "execution_count": 21,
   "metadata": {},
   "outputs": [
    {
     "name": "stdout",
     "output_type": "stream",
     "text": [
      "Matrix inverse: \n",
      "{{ 0.869565, -0.434783},\n",
      " {-0.608696,  1.304348}}"
     ]
    }
   ],
   "source": [
    "std::cout << \"Matrix inverse: \" << std::endl << xt::linalg::inv(m);"
   ]
  },
  {
   "cell_type": "code",
   "execution_count": 22,
   "metadata": {},
   "outputs": [
    {
     "name": "stdout",
     "output_type": "stream",
     "text": [
      "Eigen values: \n",
      "{ 1.892262+0.i,  0.607738+0.i}"
     ]
    }
   ],
   "source": [
    "std::cout << \"Eigen values: \" << std::endl << xt::linalg::eigvals(m);"
   ]
  }
 ],
 "metadata": {
  "kernelspec": {
   "display_name": "xeus C++14",
   "language": "",
   "name": "xeus-cling-cpp14"
  },
  "language_info": {
   "codemirror_mode": "text/x-c++src",
   "file_extension": ".cpp",
   "mimetype": "text/x-c++src",
   "name": "c++",
   "version": ""
  }
 },
 "nbformat": 4,
 "nbformat_minor": 1
}
