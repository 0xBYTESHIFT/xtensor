{
 "cells": [
  {
   "cell_type": "markdown",
   "metadata": {
    "deletable": true,
    "editable": true
   },
   "source": [
    "# ![xtensor](http://quantstack.net/assets/images/xtensor.svg)\n",
    "\n",
    "<center>Multi-dimensional arrays with broadcasting and lazy computing.</center>\n",
    "\n",
    "<div style=\"background: #f1f1f1;\n",
    "            border: 1px solid grey;\n",
    "            margin: 16px 0 8px 0;\n",
    "            text-align: center;\n",
    "            padding: 8px; \">\n",
    "    This live demo is powered by\n",
    "    <div style=\"margin-left: auto; margin-right: auto;\n",
    "                margin-top: 20px; margin-right: auto;\n",
    "                width: 700px;\">\n",
    "    <a href=\"http://mybinder.org/\" title=\"The Mybinder Project\">\n",
    "        <img src=\"./images/binder-logo.png\" alt=\"Binder Logo\" \n",
    "             style=\"display: inline-block;\">\n",
    "    </a>\n",
    "    <a href=\"http://jupyter.org/\" title=\"The Jupyter Notebook\">\n",
    "        <img src=\"./images/jupyter-logo.png\" alt=\"Jupyter Logo\"\n",
    "             style=\"display: inline-block;\">\n",
    "    </a>\n",
    "    <a href=\"https://root.cern.ch/cling\" title=\"The Cling C++ Interpreter\">\n",
    "        <img src=\"./images/cling-logo.png\" alt=\"Cling Logo\"\n",
    "             style=\"display: inline-block;\">\n",
    "    </a>\n",
    "    </div>\n",
    "</div>\n",
    "<div style=\"background: #ffeded;\n",
    "            border: 1px solid grey;\n",
    "            margin: 8px 0 8px 0;\n",
    "            text-align: center;\n",
    "            padding: 8px; \">\n",
    "    <i class=\"fa-warning fa\" \n",
    "       style=\"font-size: 40px;\n",
    "              line-height: 40px;\n",
    "              margin: 8px;\n",
    "              color: #444;\">\n",
    "    </i>\n",
    "    <div>\n",
    "    This live demo may not be runnable from behind certain corporate proxies that block the websocket protocol.\n",
    "    </div>\n",
    "</div>"
   ]
  },
  {
   "cell_type": "markdown",
   "metadata": {
    "collapsed": false,
    "deletable": true,
    "editable": true
   },
   "source": [
    "## Introduction\n",
    "\n",
    "`xtensor` is a C++ library meant for numerical analysis with multi-dimensional array expressions.\n",
    "\n",
    "`xtensor` provides\n",
    "\n",
    " - an extensible expression system enabling **lazy broadcasting**.\n",
    " - an API following the idioms of the **C++ standard library**.\n",
    " - tools to manipulate array expressions and build upon `xtensor`.\n",
    "\n",
    "The implementation of the containers of `xtensor` is inspired by [NumPy](http://www.numpy.org), the Python array programming library. **Adaptors** for existing data structures to be plugged into our expression system can easily be written. In fact, `xtensor` can be used to **process `numpy` data structures inplace** using Python's [buffer protocol](https://docs.python.org/3/c-api/buffer.html).\n",
    "\n",
    "`xtensor` requires a modern C++ compiler supporting C++14. The following C+ compilers are supported:\n",
    "\n",
    " - On Windows platforms, Visual C++ 2015 Update 2, or more recent\n",
    " - On Unix platforms, gcc 4.9 or a recent version of Clang"
   ]
  },
  {
   "cell_type": "markdown",
   "metadata": {
    "collapsed": true,
    "deletable": true,
    "editable": true
   },
   "source": [
    "## Usage\n",
    "\n",
    "<div style=\"background: #efffed;\n",
    "            border: 1px solid grey;\n",
    "            margin: 8px 0 8px 0;\n",
    "            text-align: center;\n",
    "            padding: 8px; \">\n",
    "    <i class=\"fa-play fa\" \n",
    "       style=\"font-size: 40px;\n",
    "              line-height: 40px;\n",
    "              margin: 8px;\n",
    "              color: #444;\">\n",
    "    </i>\n",
    "    <div>\n",
    "    To run the selected code cell, hit <pre style=\"background: #efffed\">Shift + Enter</pre>\n",
    "    </div>\n",
    "</div>\n",
    "\n",
    "\n",
    "### Initialize a 2-D array and compute the sum of one of its rows and a 1-D array"
   ]
  },
  {
   "cell_type": "code",
   "execution_count": 1,
   "metadata": {
    "collapsed": false,
    "deletable": true,
    "editable": true
   },
   "outputs": [
    {
     "data": {
      "text/plain": []
     },
     "execution_count": 1,
     "metadata": {},
     "output_type": "execute_result"
    }
   ],
   "source": [
    "#include <iostream>\n",
    "#include \"xtensor/xarray.hpp\"\n",
    "#include \"xtensor/xio.hpp\""
   ]
  },
  {
   "cell_type": "code",
   "execution_count": 2,
   "metadata": {
    "collapsed": false,
    "deletable": true,
    "editable": true
   },
   "outputs": [
    {
     "name": "stdout",
     "output_type": "stream",
     "text": [
      "{7, 11, 14}"
     ]
    },
    {
     "data": {
      "text/plain": [
       "(std::ostream &) @0x7fec29e28f40\n"
      ]
     },
     "execution_count": 2,
     "metadata": {},
     "output_type": "execute_result"
    }
   ],
   "source": [
    "xt::xarray<double> arr1\n",
    "  {{1.0, 2.0, 3.0},\n",
    "   {2.0, 5.0, 7.0},\n",
    "   {2.0, 5.0, 7.0}};\n",
    "\n",
    "xt::xarray<double> arr2\n",
    "  {5.0, 6.0, 7.0};\n",
    "\n",
    "std::cout << xt::make_xview(arr1, 1) + arr2;;"
   ]
  },
  {
   "cell_type": "markdown",
   "metadata": {
    "deletable": true,
    "editable": true
   },
   "source": [
    "### Initialize a 1-D array and reshape it inplace"
   ]
  },
  {
   "cell_type": "code",
   "execution_count": 3,
   "metadata": {
    "collapsed": false,
    "deletable": true,
    "editable": true
   },
   "outputs": [
    {
     "data": {
      "text/plain": []
     },
     "execution_count": 3,
     "metadata": {},
     "output_type": "execute_result"
    }
   ],
   "source": [
    "#include <iostream>\n",
    "#include \"xtensor/xarray.hpp\"\n",
    "#include \"xtensor/xio.hpp\""
   ]
  },
  {
   "cell_type": "code",
   "execution_count": 4,
   "metadata": {
    "collapsed": false,
    "deletable": true,
    "editable": true
   },
   "outputs": [
    {
     "name": "stdout",
     "output_type": "stream",
     "text": [
      "{{1, 2, 3},\n",
      " {4, 5, 6},\n",
      " {7, 8, 9}}"
     ]
    },
    {
     "data": {
      "text/plain": [
       "(std::ostream &) @0x7fec29e28f40\n"
      ]
     },
     "execution_count": 4,
     "metadata": {},
     "output_type": "execute_result"
    }
   ],
   "source": [
    "xt::xarray<int> arr\n",
    "  {1, 2, 3, 4, 5, 6, 7, 8, 9};\n",
    "\n",
    "arr.reshape({3, 3});\n",
    "\n",
    "std::cout << arr;"
   ]
  },
  {
   "cell_type": "markdown",
   "metadata": {
    "deletable": true,
    "editable": true
   },
   "source": [
    "### Broadcasting the ``xt::pow`` universal functions"
   ]
  },
  {
   "cell_type": "code",
   "execution_count": 5,
   "metadata": {
    "collapsed": false,
    "deletable": true,
    "editable": true
   },
   "outputs": [
    {
     "data": {
      "text/plain": []
     },
     "execution_count": 5,
     "metadata": {},
     "output_type": "execute_result"
    }
   ],
   "source": [
    "#include <iostream>\n",
    "#include \"xtensor/xarray.hpp\"\n",
    "#include \"xtensor/xmath.hpp\"\n",
    "#include \"xtensor/xio.hpp\""
   ]
  },
  {
   "cell_type": "code",
   "execution_count": 6,
   "metadata": {
    "collapsed": false,
    "deletable": true,
    "editable": true
   },
   "outputs": [
    {
     "name": "stdout",
     "output_type": "stream",
     "text": [
      "{{1, 16, 81},\n",
      " {1, 32, 243},\n",
      " {1, 64, 729},\n",
      " {1, 128, 2187}}"
     ]
    },
    {
     "data": {
      "text/plain": [
       "(std::ostream &) @0x7fec29e28f40\n"
      ]
     },
     "execution_count": 6,
     "metadata": {},
     "output_type": "execute_result"
    }
   ],
   "source": [
    "xt::xarray<double> arr3\n",
    "  {1.0, 2.0, 3.0};\n",
    "\n",
    "xt::xarray<unsigned int> arr4\n",
    "  {4, 5, 6, 7};\n",
    "\n",
    "arr4.reshape({4, 1});\n",
    "\n",
    "std::cout << xt::pow(arr3, arr4);;"
   ]
  },
  {
   "cell_type": "markdown",
   "metadata": {
    "deletable": true,
    "editable": true
   },
   "source": [
    "### Random arrays with the random module"
   ]
  },
  {
   "cell_type": "code",
   "execution_count": 7,
   "metadata": {
    "collapsed": false,
    "deletable": true,
    "editable": true
   },
   "outputs": [
    {
     "data": {
      "text/plain": []
     },
     "execution_count": 7,
     "metadata": {},
     "output_type": "execute_result"
    }
   ],
   "source": [
    "#include <iostream>\n",
    "#include \"xtensor/xrandom.hpp\""
   ]
  },
  {
   "cell_type": "code",
   "execution_count": 8,
   "metadata": {
    "collapsed": false,
    "deletable": true,
    "editable": true
   },
   "outputs": [
    {
     "name": "stdout",
     "output_type": "stream",
     "text": [
      "{{0.13453, -0.146382, 0.46065},\n",
      " {-1.87138, 0.163712, -0.214253},\n",
      " {0.298595, -0.827944, 0.0102154},\n",
      " {1.05547, -0.546841, 1.17457}}"
     ]
    },
    {
     "data": {
      "text/plain": [
       "(std::ostream &) @0x7fec29e28f40\n"
      ]
     },
     "execution_count": 8,
     "metadata": {},
     "output_type": "execute_result"
    }
   ],
   "source": [
    "xt::xarray<double> arr5 = xt::random::randn<double>({4, 3});\n",
    "std::cout << arr5;"
   ]
  },
  {
   "cell_type": "code",
   "execution_count": 9,
   "metadata": {
    "collapsed": false,
    "deletable": true,
    "editable": true
   },
   "outputs": [
    {
     "name": "stdout",
     "output_type": "stream",
     "text": [
      "{{0.660682, -1.04944, 1.48596},\n",
      " {-0.625276, -2.55912, -0.829081},\n",
      " {-0.539781, -0.888707, -0.628956},\n",
      " {1.01922, 0.339587, -0.482589}}"
     ]
    },
    {
     "data": {
      "text/plain": [
       "(std::ostream &) @0x7fec29e28f40\n"
      ]
     },
     "execution_count": 9,
     "metadata": {},
     "output_type": "execute_result"
    }
   ],
   "source": [
    "std::cout << xt::random::randn<double>({4, 3});"
   ]
  },
  {
   "cell_type": "markdown",
   "metadata": {
    "deletable": true,
    "editable": true
   },
   "source": [
    "### Using `linspace`, `arange`, `ones`, `zeros`"
   ]
  },
  {
   "cell_type": "code",
   "execution_count": 10,
   "metadata": {
    "collapsed": false,
    "deletable": true,
    "editable": true
   },
   "outputs": [
    {
     "data": {
      "text/plain": []
     },
     "execution_count": 10,
     "metadata": {},
     "output_type": "execute_result"
    }
   ],
   "source": [
    "#include \"xtensor/xbuilder.hpp\""
   ]
  },
  {
   "cell_type": "code",
   "execution_count": 11,
   "metadata": {
    "collapsed": false,
    "deletable": true,
    "editable": true
   },
   "outputs": [
    {
     "name": "stdout",
     "output_type": "stream",
     "text": [
      "{{0, 0.909091, 1.81818},\n",
      " {2.72727, 3.63636, 4.54545},\n",
      " {5.45455, 6.36364, 7.27273},\n",
      " {8.18182, 9.09091, 10}}"
     ]
    },
    {
     "data": {
      "text/plain": [
       "(std::ostream &) @0x7fec29e28f40\n"
      ]
     },
     "execution_count": 11,
     "metadata": {},
     "output_type": "execute_result"
    }
   ],
   "source": [
    "xt::xarray<double> ar = xt::linspace<double>(0.0, 10.0, 12);\n",
    "ar.reshape({4, 3});\n",
    "std::cout << ar;"
   ]
  },
  {
   "cell_type": "code",
   "execution_count": 12,
   "metadata": {
    "collapsed": false,
    "deletable": true,
    "editable": true,
    "scrolled": false
   },
   "outputs": [
    {
     "name": "stdout",
     "output_type": "stream",
     "text": [
      "{{1, 1},\n",
      " {1, 1}}"
     ]
    },
    {
     "data": {
      "text/plain": [
       "(std::ostream &) @0x7fec29e28f40\n"
      ]
     },
     "execution_count": 12,
     "metadata": {},
     "output_type": "execute_result"
    }
   ],
   "source": [
    "xt::xarray<double> fones = xt::ones<float>({2, 2});\n",
    "std::cout << fones;"
   ]
  },
  {
   "cell_type": "markdown",
   "metadata": {
    "deletable": true,
    "editable": true
   },
   "source": [
    "### Using `xt::broadcast`"
   ]
  },
  {
   "cell_type": "code",
   "execution_count": 13,
   "metadata": {
    "collapsed": false,
    "deletable": true,
    "editable": true
   },
   "outputs": [
    {
     "data": {
      "text/plain": []
     },
     "execution_count": 13,
     "metadata": {},
     "output_type": "execute_result"
    }
   ],
   "source": [
    "#include <vector>\n",
    "#include \"xtensor/xbroadcast.hpp\""
   ]
  },
  {
   "cell_type": "code",
   "execution_count": 14,
   "metadata": {
    "collapsed": false,
    "deletable": true,
    "editable": true
   },
   "outputs": [
    {
     "name": "stdout",
     "output_type": "stream",
     "text": [
      "{{0, 3.33333, 6.66667, 10},\n",
      " {0, 3.33333, 6.66667, 10},\n",
      " {0, 3.33333, 6.66667, 10}}"
     ]
    },
    {
     "data": {
      "text/plain": [
       "(std::ostream &) @0x7fec29e28f40\n"
      ]
     },
     "execution_count": 14,
     "metadata": {},
     "output_type": "execute_result"
    }
   ],
   "source": [
    "std::cout << xt::broadcast(xt::linspace<double>(0.0, 10.0, 4),\n",
    "                           std::vector<std::size_t>({3, 4}));"
   ]
  },
  {
   "cell_type": "markdown",
   "metadata": {},
   "source": [
    "### Using standard algorithms with xexpressions"
   ]
  },
  {
   "cell_type": "code",
   "execution_count": 15,
   "metadata": {
    "collapsed": false
   },
   "outputs": [
    {
     "data": {
      "text/plain": []
     },
     "execution_count": 15,
     "metadata": {},
     "output_type": "execute_result"
    }
   ],
   "source": [
    "#include <algorithm>"
   ]
  },
  {
   "cell_type": "code",
   "execution_count": 16,
   "metadata": {
    "collapsed": false
   },
   "outputs": [
    {
     "name": "stdout",
     "output_type": "stream",
     "text": [
      "{{2.10886, -0.121306},\n",
      " {-0.287389, -0.371003}}\n",
      "\n",
      "1.32916"
     ]
    },
    {
     "data": {
      "text/plain": [
       "(std::basic_ostream<char, std::char_traits<char> >::__ostream_type &) @0x7fec29e28f40\n"
      ]
     },
     "execution_count": 16,
     "metadata": {},
     "output_type": "execute_result"
    }
   ],
   "source": [
    "xt::xarray<double> frand = xt::random::randn<double>({2, 2});\n",
    "\n",
    "std::cout << frand << std::endl << std::endl;\n",
    "\n",
    "// begin() and end() provide and iterator pair iterating over the xexpression in a row-major fashion\n",
    "std::cout << std::accumulate(frand.begin(), frand.end(), 0.0);"
   ]
  },
  {
   "cell_type": "markdown",
   "metadata": {},
   "source": [
    "### Iterating over a prescribed broadcasted shape"
   ]
  },
  {
   "cell_type": "code",
   "execution_count": 17,
   "metadata": {
    "collapsed": false
   },
   "outputs": [
    {
     "name": "stdout",
     "output_type": "stream",
     "text": [
      "3.98747"
     ]
    },
    {
     "data": {
      "text/plain": [
       "(std::basic_ostream<char, std::char_traits<char> >::__ostream_type &) @0x7fec29e28f40\n"
      ]
     },
     "execution_count": 17,
     "metadata": {},
     "output_type": "execute_result"
    }
   ],
   "source": [
    "// xbegin(shape) and xend(shape) provide and iterator pair iterating\n",
    "// over the xexpression broadcasted to the prescrived shape in a row-major fashion\n",
    "std::vector<std::size_t> shape = {3, 2, 2};\n",
    "std::cout << std::accumulate(frand.xbegin(shape), frand.xend(shape), 0.0);"
   ]
  }
 ],
 "metadata": {
  "kernelspec": {
   "display_name": "C++14",
   "language": "",
   "name": "cling-c++14"
  },
  "language_info": {
   "codemirror_mode": "text/x-c++src",
   "file_extension": ".c++",
   "mimetype": " text/x-c++src",
   "name": "c++"
  }
 },
 "nbformat": 4,
 "nbformat_minor": 1
}
